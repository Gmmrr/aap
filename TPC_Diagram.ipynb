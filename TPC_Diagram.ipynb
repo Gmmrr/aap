import re
from collections import Counter
import matplotlib.pyplot as plt

# 假設protein_sequences是包含所有蛋白質序列的列表
protein_sequences = ["FLKDHRISTFKNWPF", "FLSSRLQDLYSIVRRADRAA", ...]  # 包含所有蛋白質序列的列表

# 將所有蛋白質序列合併成一個長字符串
all_sequences = "".join(protein_sequences)

# 使用正則表達式找到所有的三個胺基酸組合
three_aa_groups = re.findall(r'(?=(...))', all_sequences)

# 計算每組三個胺基酸的出現次數
aa_counts = Counter(three_aa_groups)

# 取得前8000個組合
top_aa_counts = aa_counts.most_common(8000)

# 提取組合和對應的次數
groups, counts = zip(*top_aa_counts)

# 繪製長條圖
plt.bar(range(len(groups)), counts, tick_label=groups)
plt.xlabel('三個胺基酸組合')
plt.ylabel('出現次數')
plt.title('蛋白質序列中每組三個胺基酸的出現次數')
plt.show()
